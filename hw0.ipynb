{
 "cells": [
  {
   "cell_type": "markdown",
   "metadata": {},
   "source": [
    "# CSE 152A Intro to Computer Vision Fall 2023 - Assignment 0"
   ]
  },
  {
   "cell_type": "markdown",
   "metadata": {},
   "source": [
    "## Instructor: Manmohan Chandraker\n",
    "\n",
    "- Assignment release: **Thurs, Jan 11, 2024**.\n",
    "\n",
    "- Assignment due: **Wed, Jan 18, 2024 at 4pm PST**.\n",
    "\n",
    "## Instructions\n",
    "\n",
    "Please answer the questions below using Python in the attached Jupyter notebook and follow the guidelines below:\n",
    " \n",
    "- This assignment is **ungraded**, but you are highly encouraged to complete it as a test of background.\n",
    "\n",
    "- All the solutions must be written in this Jupyter notebook.\n",
    "\n",
    "- After finishing the assignment in the notebook, please export the notebook as a PDF and submit both the notebook and the PDF (i.e. the `.ipynb` and the `.pdf` files) on Gradescope.\n",
    "\n",
    "- You may use basic algebra packages (such as `NumPy`, `SciPy`) to solve these problems.\n"
   ]
  },
  {
   "cell_type": "markdown",
   "metadata": {
    "jp-MarkdownHeadingCollapsed": true
   },
   "source": [
    "## Introduction\n",
    "\n",
    "This tutorial was created by Ben Ochoa. We will use the Python programming language for  assignments in this course, with a few popular libraries (`NumPy`, `Matplotlib`). Assignments will be given in the format of web-based Jupyter notebook that you are currently viewing. We expect that many of you have some experience with `Python` and `NumPy`. If you have previous knowledge in `MATLAB`, check out the [NumPy for MATLAB users](https://numpy.org/doc/stable/user/numpy-for-matlab-users.html) page. The section below will serve as a quick introduction to `NumPy` and some other libraries."
   ]
  },
  {
   "cell_type": "markdown",
   "metadata": {},
   "source": [
    "## Getting Started with NumPy\n",
    "\n",
    "`NumPy` is the fundamental package for scientific computing with Python. It provides a powerful N-dimensional array object and functions for working with these arrays. Some basic use of this packages is shown below. This is **NOT** a problem, but you are highly recommended to run the following code with some of the input changed in order to understand the meaning of the operations."
   ]
  },
  {
   "cell_type": "markdown",
   "metadata": {},
   "source": [
    "### Arrays"
   ]
  },
  {
   "cell_type": "code",
   "execution_count": null,
   "metadata": {},
   "outputs": [],
   "source": [
    "import numpy as np             # Import the NumPy package\n",
    "\n",
    "v = np.array([1, 2, 3])        # A 1D array\n",
    "print(v)\n",
    "print(v.shape)                 # Print the size / shape of v\n",
    "print(\"1D array:\", v, \"Shape:\", v.shape)\n",
    "\n",
    "v = np.array([[1], [2], [3]])  # A 2D array\n",
    "print(\"2D array:\", v, \"Shape:\", v.shape) # Print the size of v and check the difference.\n",
    "\n",
    "# You can also attempt to compute and print the following values and their size.\n",
    "\n",
    "v = v.T                        # Transpose of a 2D array\n",
    "m = np.zeros([3, 4])           # A 2x3 array (i.e. matrix) of zeros\n",
    "v = np.ones([1, 3])            # A 1x3 array (i.e. a row vector) of ones\n",
    "v = np.ones([3, 1])            # A 3x1 array (i.e. a column vector) of ones\n",
    "m = np.eye(4)                  # Identity matrix\n",
    "m = np.random.rand(2, 3)       # A 2x3 random matrix with values in [0, 1] (sampled from uniform distribution)"
   ]
  },
  {
   "cell_type": "markdown",
   "metadata": {},
   "source": [
    "### Array Indexing"
   ]
  },
  {
   "cell_type": "code",
   "execution_count": null,
   "metadata": {},
   "outputs": [],
   "source": [
    "import numpy as np\n",
    "\n",
    "print(\"Matrix\")\n",
    "m = np.array([[1, 2, 3], [4, 5, 6], [7, 8, 9]]) # Create a 3x3 array.\n",
    "print(m)\n",
    "\n",
    "print(\"\\nAccess a single element\")\n",
    "print(m[0, 1])                        # Access an element\n",
    "m[1, 1] = 100                         # Modify an element\n",
    "print(\"\\nModify a single element\")\n",
    "print(m)\n",
    "\n",
    "print(\"\\nAccess a subarray\")\n",
    "m = np.array([[1, 2, 3], [4, 5, 6], [7, 8, 9]]) # Create a 3x3 array.\n",
    "print(m[1, :])                        # Access a row (to 1D array)\n",
    "print(m[1:2, :])                      # Access a row (to 2D array)\n",
    "print(m[1:3, :])                      # Access a sub-matrix\n",
    "print(m[1:, :])                       # Access a sub-matrix\n",
    "\n",
    "print(\"\\nModify a subarray\")\n",
    "m = np.array([[1,2,3], [4,5,6], [7,8,9]]) # Create a 3x3 array.\n",
    "v1 = np.array([1,1,1])\n",
    "m[0] = v1\n",
    "print(m)\n",
    "m = np.array([[1,2,3], [4,5,6], [7,8,9]]) # Create a 3x3 array.\n",
    "v1 = np.array([1,1,1])\n",
    "m[:,0] = v1\n",
    "print(m)\n",
    "m = np.array([[1,2,3], [4,5,6], [7,8,9]]) # Create a 3x3 array.\n",
    "m1 = np.array([[1,1],[1,1]])\n",
    "m[:2,:2] = m1\n",
    "print(m)\n",
    "\n",
    "print(\"\\nTranspose a subarray\")\n",
    "m = np.array([[1, 2, 3], [4, 5, 6], [7, 8, 9]]) # Create a 3x3 array.\n",
    "print(m[1, :].T)                                # Notice the difference of the dimension of resulting array                    \n",
    "print(m[1:2, :].T)\n",
    "print(m[1:, :].T)\n",
    "print(np.transpose(m[1:, :], axes=(1,0)))       # np.transpose() can be used to transpose according given axes list.\n",
    "\n",
    "print(\"\\nReverse the order of a subarray\")\n",
    "print(m[1, ::-1])                               # Access a row with reversed order (to 1D array)\n",
    "\n",
    "# Boolean array indexing\n",
    "# Given a array m, create a new array with values equal to m \n",
    "# if they are greater than 2, and equal to 0 if they less than or equal to 2\n",
    "m = np.array([[1, 2, 3], [4, 5, 6]])\n",
    "m[m > 2] = 0\n",
    "print(\"\\nBoolean array indexing: Modify with a scaler\")\n",
    "print(m)\n",
    "\n",
    "# Given a array m, create a new array with values equal to those in m \n",
    "# if they are greater than 0, and equal to those in n if they less than or equal 0\n",
    "m = np.array([[1, 2, -3], [4, -5, 6]])\n",
    "n = np.array([[1, 10, 100], [1, 10, 100]])\n",
    "n[m > 0] = m[m > 0]\n",
    "print(\"\\nBoolean array indexing: Modify with another array\")\n",
    "print(n)"
   ]
  },
  {
   "cell_type": "markdown",
   "metadata": {},
   "source": [
    "### Array Dimension Operation"
   ]
  },
  {
   "cell_type": "code",
   "execution_count": null,
   "metadata": {},
   "outputs": [],
   "source": [
    "import numpy as np\n",
    "\n",
    "print(\"Matrix\")\n",
    "m = np.array([[1, 2], [3, 4]]) # Create a 2x2 array.\n",
    "print(m, m.shape)\n",
    "\n",
    "print(\"\\nReshape\")\n",
    "re_m = m.reshape(1,2,2)  # Add one more dimension at first.\n",
    "print(re_m, re_m.shape)\n",
    "re_m = m.reshape(2,1,2)  # Add one more dimension in middle.\n",
    "print(re_m, re_m.shape)\n",
    "re_m = m.reshape(2,2,1)  # Add one more dimension at last.\n",
    "print(re_m, re_m.shape)\n",
    "\n",
    "print(\"\\nStack\")\n",
    "m1 = np.array([[1, 2], [3, 4]]) # Create a 2x2 array.\n",
    "m2 = np.array([[1, 1], [1, 1]]) # Create a 2x2 array.\n",
    "print(np.stack((m1,m2)))\n",
    "\n",
    "print(\"\\nConcatenate\")\n",
    "m1 = np.array([[1, 2], [3, 4]]) # Create a 2x2 array.\n",
    "m2 = np.array([[1, 1], [1, 1]]) # Create a 2x2 array.\n",
    "print(np.concatenate((m1,m2)))\n",
    "print(np.concatenate((m1,m2), axis=0))\n",
    "print(np.concatenate((m1,m2), axis=1))"
   ]
  },
  {
   "cell_type": "markdown",
   "metadata": {},
   "source": [
    "### Math Operations on Array\n",
    "**Element-wise Operations**"
   ]
  },
  {
   "cell_type": "code",
   "execution_count": null,
   "metadata": {},
   "outputs": [],
   "source": [
    "import numpy as np\n",
    "\n",
    "a = np.array([[1, 2, 3], [4, 5, 6]], dtype=np.float64)\n",
    "print(a * 3)                                            # Scalar multiplication\n",
    "print(a / 2)                                            # Scalar division\n",
    "print(np.round(a / 2))\n",
    "print(np.power(a, 2))\n",
    "print(np.log(a))\n",
    "print(np.exp(a))\n",
    "\n",
    "b = np.array([[1, 1, 1], [2, 2, 2]], dtype=np.float64)\n",
    "print(a + b)                                            # Elementwise sum\n",
    "print(a - b)                                            # Elementwise difference\n",
    "print(a * b)                                            # Elementwise product\n",
    "print(a / b)                                            # Elementwise division\n",
    "print(a == b)                                           # Elementwise comparison"
   ]
  },
  {
   "cell_type": "markdown",
   "metadata": {},
   "source": [
    "**Broadcasting**"
   ]
  },
  {
   "cell_type": "code",
   "execution_count": null,
   "metadata": {},
   "outputs": [],
   "source": [
    "# Note: See https://numpy.org/doc/stable/user/basics.broadcasting.html\n",
    "#       for more details.\n",
    "import numpy as np\n",
    "a = np.array([[1, 1, 1], [2, 2, 2]], dtype=np.float64)\n",
    "b = np.array([1, 2, 3])\n",
    "print(a*b)"
   ]
  },
  {
   "cell_type": "markdown",
   "metadata": {},
   "source": [
    "**Sum and Mean**"
   ]
  },
  {
   "cell_type": "code",
   "execution_count": null,
   "metadata": {},
   "outputs": [],
   "source": [
    "import numpy as np\n",
    "\n",
    "a = np.array([[1, 2, 3], [4, 5, 6]])\n",
    "print(\"Sum of array\")\n",
    "print(np.sum(a))                # Sum of all array elements\n",
    "print(np.sum(a, axis=0))        # Sum of each column\n",
    "print(np.sum(a, axis=1))        # Sum of each row\n",
    "print(\"\\nMean of array\")\n",
    "print(np.mean(a))               # Mean of all array elements\n",
    "print(np.mean(a, axis=0))       # Mean of each column\n",
    "print(np.mean(a, axis=1))       # Mean of each row"
   ]
  },
  {
   "cell_type": "markdown",
   "metadata": {},
   "source": [
    "**Vector and Matrix Operations**"
   ]
  },
  {
   "cell_type": "code",
   "execution_count": null,
   "metadata": {},
   "outputs": [],
   "source": [
    "import numpy as np\n",
    "\n",
    "a = np.array([[1, 2], [3, 4]])\n",
    "b = np.array([[1, 1], [1, 1]])\n",
    "print(\"Matrix-matrix product\")\n",
    "print(a.dot(b))                 # Matrix-matrix product\n",
    "print(a.T.dot(b.T))\n",
    "\n",
    "x = np.array([3, 4])  \n",
    "print(\"\\nMatrix-vector product\")\n",
    "print(a.dot(x))                 # Matrix-vector product\n",
    "\n",
    "x = np.array([1, 2])\n",
    "y = np.array([3, 4])\n",
    "print(\"\\nVector-vector product\")\n",
    "print(x.dot(y))                 # Vector-vector product"
   ]
  },
  {
   "cell_type": "markdown",
   "metadata": {},
   "source": [
    "### Matplotlib\n",
    "\n",
    "`Matplotlib` is a plotting library. We will use it to show the result in this assignment."
   ]
  },
  {
   "cell_type": "code",
   "execution_count": null,
   "metadata": {},
   "outputs": [],
   "source": [
    "%config InlineBackend.figure_format = 'retina' # For high-resolution.\n",
    "import numpy as np\n",
    "import matplotlib.pyplot as plt\n",
    "\n",
    "x = np.arange(-2., 2., 0.01) * np.pi\n",
    "plt.plot(x, np.sin(x))\n",
    "plt.xlabel('x')\n",
    "plt.ylabel('$\\sin(x)$ value') # '$...$' for a LaTeX formula.\n",
    "plt.title('Sine function')\n",
    "\n",
    "plt.show()"
   ]
  },
  {
   "cell_type": "markdown",
   "metadata": {},
   "source": [
    "This brief overview introduces many basic functions from `NumPy` and `Matplotlib`, but is far from complete. Check out more operations and their use in documentations for [NumPy](https://docs.scipy.org/doc/numpy/reference/) and [Matplotlib](https://matplotlib.org/)."
   ]
  },
  {
   "cell_type": "markdown",
   "metadata": {},
   "source": [
    "## Problem 1: Image Operations and Vectorization (5 points)\n",
    "\n",
    "Vector operations using `NumPy` can offer a significant speedup over doing an operation iteratively on an image. The problem below will demonstrate the time it takes for both approaches to change the color of quadrants of an image.\n",
    "\n",
    "The problem reads an image `ucsd-triton-statue.png` that you will find in the assignment folder. Two functions are then provided as different approaches for doing an operation on the image. \n",
    "\n",
    "Your task is to follow through the code and fill the blanks in `vectorized()` function and compare the speed difference between `iterative()` and `vectorized()`."
   ]
  },
  {
   "cell_type": "code",
   "execution_count": null,
   "metadata": {},
   "outputs": [],
   "source": [
    "import numpy as np\n",
    "import matplotlib.pyplot as plt\n",
    "import copy\n",
    "import time\n",
    "\n",
    "img = plt.imread('ucsd-triton-statue.jpg') # Read an image \n",
    "print(\"Image shape:\", img.shape)           # Print image size and color depth. The shape should be (H,W,C).\n",
    "\n",
    "plt.imshow(img)                            # Show the original image\n",
    "plt.show()"
   ]
  },
  {
   "cell_type": "code",
   "execution_count": null,
   "metadata": {},
   "outputs": [],
   "source": [
    "def iterative(img):\n",
    "    \"\"\" Iterative operation. \"\"\"\n",
    "    image = copy.deepcopy(img)              # Create a copy of the image matrix\n",
    "    for x in range(image.shape[0]):\n",
    "        for y in range(image.shape[1]):\n",
    "            if x < image.shape[0]/2 and y < image.shape[1]/2:\n",
    "                image[x,y] = image[x,y] * np.array([1,0,0])    # Keep the red channel\n",
    "            elif x > image.shape[0]/2 and y < image.shape[1]/2:\n",
    "                image[x,y] = image[x,y] * np.array([0,1,0])    # Keep the green channel\n",
    "            elif x < image.shape[0]/2 and y > image.shape[1]/2:\n",
    "                image[x,y] = image[x,y] * np.array([0,0,1])    # Keep the blue channel\n",
    "            else:\n",
    "                pass\n",
    "    return image\n",
    "\n",
    "def vectorized(img):\n",
    "    \"\"\" Vectorized operation. \"\"\"\n",
    "    image = copy.deepcopy(img)\n",
    "    a = int(image.shape[0]/2)\n",
    "    b = int(image.shape[1]/2)\n",
    "    image[:a,:b] = image[:a,:b]*np.array([1,0,0])   # Keep the red channel\n",
    "    \n",
    "    # Please also keep the green channel / blue channel respectively in image[a:, :b] and image[:a, b:]\n",
    "    # with the vectorized operation as shown above. You need to make sure your final generated image in this\n",
    "    # vectorized() function is the same as the one generated from iterative().\n",
    "    \n",
    "    #### Write your code here. ####\n",
    "    image[a:,:b] =                                  # Keep the green channel\n",
    "    \n",
    "    image[:a,b:] =                                  # Keep the blue channel\n",
    "    \n",
    "    return image"
   ]
  },
  {
   "cell_type": "markdown",
   "metadata": {},
   "source": [
    "Now, run the following cell to compare the difference between iterative and vectorized operation."
   ]
  },
  {
   "cell_type": "code",
   "execution_count": null,
   "metadata": {},
   "outputs": [],
   "source": [
    "import time\n",
    "\n",
    "def compare():\n",
    "    img = plt.imread('ucsd-triton-statue.jpg') \n",
    "    cur_time = time.time()\n",
    "    image_iterative = iterative(img)\n",
    "    print(\"Iterative operation (sec):\", time.time() - cur_time)\n",
    "    \n",
    "    cur_time = time.time()\n",
    "    image_vectorized = vectorized(img)\n",
    "    print(\"Vectorized operation (sec):\", time.time() - cur_time)\n",
    "    \n",
    "    return image_iterative, image_vectorized\n",
    "\n",
    "# Run the function\n",
    "image_iterative, image_vectorized = compare()\n",
    "\n",
    "# Plotting the results in sepearate subplots.\n",
    "plt.figure(figsize=(12,4))   # Adjust the figure size.\n",
    "plt.subplot(1, 3, 1)         # Create 1x3 subplots, indexing from 1\n",
    "plt.imshow(img)              # Original image.\n",
    "\n",
    "plt.subplot(1, 3, 2)       \n",
    "plt.imshow(image_iterative)  # Iterative operations on the image.\n",
    "\n",
    "plt.subplot(1, 3, 3)\n",
    "plt.imshow(image_vectorized) # Vectorized operations on the image.\n",
    "\n",
    "plt.show()                   # Show the figure.\n",
    "\n",
    "# Note: The shown figures of image_iterative and image_vectorized should be identical!"
   ]
  },
  {
   "cell_type": "markdown",
   "metadata": {},
   "source": [
    "## Problem 2: More Image Operations (45 points)\n",
    "\n",
    "In this problem you will reuse the image `ucsd-triton-statue.png`. Being a color image, this image has three channels, corresponding to the primary colors of red, green and blue. \n",
    "\n",
    "(1) Read the image.\n",
    "\n",
    "(2) Write your implementation to extract each of these channels separately to create single channel images. This means that from the $H\\times W\\times 3$ shaped image, you'll get three matrices of the shape $H\\times W$ (Note that it's 2-dimensional). \n",
    "\n",
    "(3) Now, write a function to merge all these single channel images back into a 3-dimensional colored image. Merge the 2D images using the original channels order (R,G,B) and the reversed channels order (B,G,R).\n",
    "\n",
    "(4) Next, write another function to mirror the original image from left to right. For this function, please only use **array indexing** to implement this function and **do not** directly use NumPy functions (such as `np.flip()`) that flip the matrix.\n",
    "\n",
    "(5) Next, write another function to rotate the original image 90 degrees counterclockwise. For this function, please only use **array indexing** to implement this function and **do not** directly use NumPy functions (such as `np.rot90()`) that directly rotate the matrix. Try to apply the rotation function once (that is, a 90-degree rotation) and twice (that is, a 180-degree rotation).\n",
    "\n",
    "(6) Finally, consider **4 color images** you obtained: 2 from merging (RGB and BGR), 1 from mirroring (left to right) and 1 from rotation (180-degree). Using these 4 images, create one single image by tiling them together **without using loops**. The image will have $2\\times 2$ tiles making the shape of the final image $2H \\times 2W \\times 3$. The order in which the images are tiled does not matter. Show the tiled image."
   ]
  },
  {
   "cell_type": "code",
   "execution_count": null,
   "metadata": {},
   "outputs": [],
   "source": [
    "import numpy as np\n",
    "import matplotlib.pyplot as plt\n",
    "import copy"
   ]
  },
  {
   "cell_type": "code",
   "execution_count": null,
   "metadata": {},
   "outputs": [],
   "source": [
    "# (1) Read the image.\n",
    "#### Write your code here. ####\n",
    "img = \n",
    "\n",
    "\n",
    "\n",
    "\n",
    "plt.imshow(img) # Show the image after reading.\n",
    "plt.show()\n",
    "\n",
    "\n",
    "\n",
    "# (2) Extract single channel image.\n",
    "def get_channel(img, channel):\n",
    "    \"\"\" Function to extract 2D image corresponding to a channel index from a color image. \n",
    "    This function should return a H*W array which is the corresponding channel of the input image. \"\"\"\n",
    "    #### Write your code here. ####\n",
    "\n",
    "    \n",
    "    \n",
    "    \n",
    "    \n",
    "    \n",
    "    \n",
    "    \n",
    "    \n",
    "\n",
    "# Test your implemented get_channel()\n",
    "assert len(get_channel(img, 0).shape) == 2  # Index 0"
   ]
  },
  {
   "cell_type": "code",
   "execution_count": null,
   "metadata": {},
   "outputs": [],
   "source": [
    "# (3) Merge channels.\n",
    "def merge_channels(img0, img1, img2):\n",
    "    \"\"\" Function to merge three single channel images to form a color image. \n",
    "    This function should return a H*W*3 array which merges all three single channel images \n",
    "    (i.e. img0, img1, img2) in the input.\"\"\"\n",
    "    # Hint: There are multiple ways to implement it. \n",
    "    #       1. For example, create a H*W*C array with all values as zero and \n",
    "    #          fill each channel with given single channel image. \n",
    "    #          You may refer to the \"Modify a subarray\" section in the brief NumPy tutorial above.\n",
    "    #       2. You may find np.stack() / np.concatenate() / np.reshape() useful in this problem.\n",
    "    \n",
    "    #### Write your code here. ####\n",
    "    \n",
    "    \n",
    "    \n",
    "    \n",
    "    \n",
    "    \n",
    "img0 = get_channel(img, 0)  # Get single channel images.\n",
    "img1 = get_channel(img, 1)\n",
    "img2 = get_channel(img, 2)\n",
    "\n",
    "#### Write your code here. ####\n",
    "RGB_img =                           # Merge the channels in R,G,B order (the same as original)\n",
    "BGR_img =                           # Merge the channels in B,G,R order (swap blue and red channels)\n",
    "plt.imshow(RGB_img)\n",
    "plt.show()\n",
    "plt.imshow(BGR_img)\n",
    "plt.show()"
   ]
  },
  {
   "cell_type": "code",
   "execution_count": null,
   "metadata": {},
   "outputs": [],
   "source": [
    "# (4) Mirror the image from left to right.\n",
    "def mirror_img(img):\n",
    "    \"\"\" Function to mirror image from left to right. \n",
    "    This function should return a H*W*3 array which is the mirrored version of original image.\n",
    "    \"\"\"    \n",
    "    #### Write your code here. ####\n",
    "\n",
    "    \n",
    "    \n",
    "    \n",
    "    \n",
    "    \n",
    "plt.imshow(img)\n",
    "plt.show()\n",
    "mirrored_img = mirror_img(img)\n",
    "plt.imshow(mirrored_img)\n",
    "plt.show()"
   ]
  },
  {
   "cell_type": "code",
   "execution_count": null,
   "metadata": {},
   "outputs": [],
   "source": [
    "# (5) Rotate image.\n",
    "def rotate_img(img):\n",
    "    \"\"\" Function to rotate image 90 degrees counter-clockwise. \n",
    "    This function should return a W*H*3 array which is the rotated version of original image. \"\"\"\n",
    "    #### Write your code here. ####\n",
    "    \n",
    "    \n",
    "    \n",
    "    \n",
    "    \n",
    "    \n",
    "    \n",
    "\n",
    "plt.imshow(img)\n",
    "plt.show()\n",
    "rot90_img = rotate_img(img)\n",
    "plt.imshow(rot90_img)\n",
    "plt.show()\n",
    "rot180_img = rotate_img(rotate_img(img))\n",
    "plt.imshow(rot180_img)\n",
    "plt.show()"
   ]
  },
  {
   "cell_type": "code",
   "execution_count": null,
   "metadata": {},
   "outputs": [],
   "source": [
    "# (6) Write your code here to tile the four images and make a single image. \n",
    "# You can use the RGB_img, BGR_img, mirrored_img, rot180_img to represent the four images.\n",
    "# After tiling, please display the tiled image.\n",
    "\n",
    "#### Write your code here. ####\n",
    "\n",
    "\n",
    "\n",
    "\n",
    "\n",
    "\n",
    "\n",
    "\n",
    "\n",
    "\n"
   ]
  },
  {
   "cell_type": "markdown",
   "metadata": {},
   "source": [
    "\n",
    "### Submission Instructions\n",
    "Remember to submit **both** the Jupyter notebook file (.ipynb) and the PDF version of this notebook to Gradescope. Please make sure the content in each cell is clearly shown in your final PDF file.\n",
    "To convert the notebook to PDF, you can choose one way below:\n",
    "\n",
    "**The recommended thing to ensure cells and output are not cutoff in the PDF is to:**\n",
    "1. Export the notebook as HTML. (File -> Save and export or Export)\n",
    "2. Open the HTML in the browser of your choice.\n",
    "3. Right click on the webpage and click print.\n",
    "4. Make sure the destination is \"Save as PDF\".\n"
   ]
  },
  {
   "cell_type": "code",
   "execution_count": null,
   "metadata": {},
   "outputs": [],
   "source": []
  }
 ],
 "metadata": {
  "kernelspec": {
   "display_name": "Python 3 (ipykernel)",
   "language": "python",
   "name": "python3"
  },
  "language_info": {
   "codemirror_mode": {
    "name": "ipython",
    "version": 3
   },
   "file_extension": ".py",
   "mimetype": "text/x-python",
   "name": "python",
   "nbconvert_exporter": "python",
   "pygments_lexer": "ipython3",
   "version": "3.9.7"
  }
 },
 "nbformat": 4,
 "nbformat_minor": 4
}
